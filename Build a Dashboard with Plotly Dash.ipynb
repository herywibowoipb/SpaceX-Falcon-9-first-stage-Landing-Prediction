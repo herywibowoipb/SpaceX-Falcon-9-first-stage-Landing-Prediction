{
 "cells": [
  {
   "cell_type": "code",
   "execution_count": 9,
   "id": "4dceccb3-8800-44e0-9c26-42f3e6b591c6",
   "metadata": {},
   "outputs": [
    {
     "data": {
      "text/html": [
       "\n",
       "        <iframe\n",
       "            width=\"100%\"\n",
       "            height=\"650\"\n",
       "            src=\"http://127.0.0.1:8060/\"\n",
       "            frameborder=\"0\"\n",
       "            allowfullscreen\n",
       "            \n",
       "        ></iframe>\n",
       "        "
      ],
      "text/plain": [
       "<IPython.lib.display.IFrame at 0x2804c9a73e0>"
      ]
     },
     "metadata": {},
     "output_type": "display_data"
    }
   ],
   "source": [
    "import pandas as pd\n",
    "import dash\n",
    "from dash import dcc\n",
    "from dash import html\n",
    "from dash.dependencies import Input, Output\n",
    "import plotly.express as px\n",
    "\n",
    "# Read dataset\n",
    "spacex_df = pd.read_csv(\"https://cf-courses-data.s3.us.cloud-object-storage.appdomain.cloud/IBM-DS0321EN-SkillsNetwork/datasets/spacex_launch_geo.csv\")\n",
    "\n",
    "# Mendapatkan nilai minimum dan maksimum payload\n",
    "min_payload = spacex_df['Payload Mass (kg)'].min()\n",
    "max_payload = spacex_df['Payload Mass (kg)'].max()\n",
    "\n",
    "# Create a Dash application\n",
    "app = dash.Dash(__name__)\n",
    "\n",
    "app.layout = html.Div(children=[\n",
    "    html.H1('SpaceX Launch Records Dashboard',\n",
    "            style={'textAlign': 'center', 'color': '#503D36',\n",
    "                   'font-size': 40}),\n",
    "    dcc.Dropdown(id='site-dropdown',\n",
    "                 options=[\n",
    "                     {'label': 'All Sites', 'value': 'ALL'},\n",
    "                     {'label': 'CCAFS LC-40', 'value': 'CCAFS LC-40'},\n",
    "                     {'label': 'CCAFS SLC-40', 'value': 'CCAFS SLC-40'},\n",
    "                     {'label': 'KSC LC-39A', 'value': 'KSC LC-39A'},\n",
    "                     {'label': 'VAFB SLC-4E', 'value': 'VAFB SLC-4E'}\n",
    "                 ],\n",
    "                 value='ALL',\n",
    "                 placeholder=\"Select a Launch Site here\",\n",
    "                 searchable=True\n",
    "                 ),\n",
    "    html.Br(),\n",
    "    html.Div(dcc.Graph(id='success-pie-chart')),\n",
    "    html.Br(),\n",
    "    html.P(\"Payload range (Kg):\"),\n",
    "    dcc.RangeSlider(id='payload-slider',\n",
    "                    min=0, max=10000, step=1000,\n",
    "                    marks={0: '0', 1000: '1000', 2000: '2000', 3000: '3000', 4000: '4000', 5000: '5000',\n",
    "                           6000: '6000', 7000: '7000', 8000: '8000', 9000: '9000', 10000: '10000'},\n",
    "                    value=[min_payload, max_payload]\n",
    "                    ),\n",
    "    html.Div(dcc.Graph(id='success-payload-scatter-chart')),\n",
    "])\n",
    "\n",
    "# Callback to render pie chart based on drop-down selection\n",
    "@app.callback(Output(component_id='success-pie-chart', component_property='figure'),\n",
    "              Input(component_id='site-dropdown', component_property='value'))\n",
    "def get_pie_chart(entered_site):\n",
    "    filtered_df = spacex_df\n",
    "    if entered_site == 'ALL':\n",
    "        fig = px.pie(filtered_df, values='class',\n",
    "                     names='Launch Site',\n",
    "                     title='Total Success Launches for all sites')\n",
    "        return fig\n",
    "    else:\n",
    "        filtered_df = filtered_df[filtered_df['Launch Site'] == entered_site]\n",
    "        fig = px.pie(filtered_df, values='class',\n",
    "                     names='class',\n",
    "                     title=f'Total Success Launches for site {entered_site}')\n",
    "        return fig\n",
    "\n",
    "# Callback to render scatter plot based on payload and drop-down slider selections\n",
    "@app.callback(Output(component_id='success-payload-scatter-chart', component_property='figure'),\n",
    "              [Input(component_id='site-dropdown', component_property='value'),\n",
    "               Input(component_id=\"payload-slider\", component_property=\"value\")])\n",
    "def get_scatter_plot(entered_site, payload_range):\n",
    "    low, high = payload_range\n",
    "    filtered_df = spacex_df[(spacex_df['Payload Mass (kg)'] >= low) & (spacex_df['Payload Mass (kg)'] <= high)]\n",
    "    if entered_site == 'ALL':\n",
    "        fig = px.scatter(filtered_df, x='Payload Mass (kg)', y='class',\n",
    "                         color=\"Booster Version\",\n",
    "                         title='Correlation between Payload and Success for all Sites')\n",
    "        return fig\n",
    "    else:\n",
    "        filtered_df = filtered_df[filtered_df['Launch Site'] == entered_site]\n",
    "        fig = px.scatter(filtered_df, x='Payload Mass (kg)', y='class',\n",
    "                         color=\"Booster Version\",\n",
    "                         title=f'Correlation between Payload and Success for site {entered_site}')\n",
    "        return fig\n",
    "\n",
    "# Run the application\n",
    "if __name__ == '__main__':\n",
    "    app.run_server(debug=True, port=8060)\n"
   ]
  },
  {
   "cell_type": "code",
   "execution_count": null,
   "id": "55f18177-fb68-483a-919f-79acdfef7d08",
   "metadata": {},
   "outputs": [],
   "source": []
  }
 ],
 "metadata": {
  "kernelspec": {
   "display_name": "Python 3 (ipykernel)",
   "language": "python",
   "name": "python3"
  },
  "language_info": {
   "codemirror_mode": {
    "name": "ipython",
    "version": 3
   },
   "file_extension": ".py",
   "mimetype": "text/x-python",
   "name": "python",
   "nbconvert_exporter": "python",
   "pygments_lexer": "ipython3",
   "version": "3.12.4"
  }
 },
 "nbformat": 4,
 "nbformat_minor": 5
}
